{
 "cells": [
  {
   "cell_type": "code",
   "execution_count": null,
   "metadata": {},
   "outputs": [],
   "source": [
    "import folium\n",
    "import requests\n",
    "import polyline"
   ]
  },
  {
   "cell_type": "code",
   "execution_count": null,
   "metadata": {},
   "outputs": [],
   "source": [
    "# Function to get latitude and longitude from an address\n",
    "def get_latlong(address):\n",
    "    geolocator = GoogleV3(api_key=os.environ.get(\"GOOGLEMAP_KEY\"))\n",
    "    location = geolocator.geocode(address)\n",
    "    if location:\n",
    "        return location.latitude, location.longitude\n",
    "    else:\n",
    "        return None"
   ]
  },
  {
   "cell_type": "code",
   "execution_count": null,
   "metadata": {},
   "outputs": [],
   "source": [
    "# Generate Google Maps with landmarks\n",
    "if city_infos:\n",
    "    google_maps_api_key = os.environ.get(\"GOOGLEMAP_KEY\")\n",
    "    \n",
    "    # JavaScript to add markers for landmarks\n",
    "    markers_js = \"\"\n",
    "    for city, info in city_infos.items():\n",
    "        for landmark in info[\"landmarks\"]:\n",
    "            # Get coordinates for each landmark\n",
    "            coordinates = get_latlong(f\"{landmark}, {city}, {info['country']}\")\n",
    "            if coordinates:\n",
    "                markers_js += f'''\n",
    "                new google.maps.Marker({{\n",
    "                    position: {{lat: {coordinates[0]}, lng: {coordinates[1]}}},\n",
    "                    map: map,\n",
    "                    title: \"{landmark}\"\n",
    "                }});\\n\n",
    "                '''\n",
    "\n",
    "        # Define el código HTML para incrustar el mapa\n",
    "        map_html = f'''\n",
    "        <!DOCTYPE html>\n",
    "        <html>\n",
    "        <head>\n",
    "            <title>Google Maps API Example</title>\n",
    "            <style>\n",
    "            #map {{\n",
    "                height: 100%;\n",
    "            }}\n",
    "            html, body {{\n",
    "                height: 100%;\n",
    "                margin: 0;\n",
    "                padding: 0;\n",
    "            }}\n",
    "            </style>\n",
    "            <script src=\"https://maps.googleapis.com/maps/api/js?key={google_maps_api_key}\"></script>\n",
    "            <script>\n",
    "            function initMap() {{\n",
    "                var map = new google.maps.Map(document.getElementById('map'), {{\n",
    "                center: {{lat: {avg_lat}, lng: {avg_lon}}},\n",
    "                zoom: 2\n",
    "                }});\n",
    "                {markers_js}\n",
    "            }}\n",
    "            </script>\n",
    "        </head>\n",
    "        <body onload=\"initMap()\">\n",
    "            <div id=\"map\" style=\"height: 500px; width: 100%;\"></div>\n",
    "        </body>\n",
    "        </html>\n",
    "        '''\n",
    "\n",
    "        # Usa Streamlit para mostrar el HTML\n",
    "        st.components.v1.html(map_html, height=500)\n",
    "else:\n",
    "    st.warning(\"Please select at least one city to generate descriptions.\")"
   ]
  }
 ],
 "metadata": {
  "language_info": {
   "name": "python"
  }
 },
 "nbformat": 4,
 "nbformat_minor": 2
}
